{
 "cells": [
  {
   "cell_type": "code",
   "execution_count": 1,
   "metadata": {},
   "outputs": [],
   "source": [
    "import nltk"
   ]
  },
  {
   "cell_type": "code",
   "execution_count": 2,
   "metadata": {},
   "outputs": [],
   "source": [
    "#define the grammar for pcfg\n",
    "pcfg_grammar = nltk.PCFG.fromstring(\"\"\"\n",
    "    \n",
    "S -> NP VP [1.0]\n",
    "PP -> P NP [1.0]\n",
    "VP -> V NP [0.3]| VP PP [0.4] | V [0.3]\n",
    "NP -> DT N [0.4] | N [0.2] | NP PP [0.25] | N V [0.15]\n",
    "P -> 'until' [0.4] | 'with' [0.6]\n",
    "V -> 'chased' [0.4] | 'stumbled' [0.2] | 'fell' [0.4]\n",
    "N -> 'lion' [0.5]| 'deer' [0.4] | 'it' [0.1]\n",
    "DT -> 'the' [1.0]\n",
    "    \"\"\")"
   ]
  },
  {
   "cell_type": "code",
   "execution_count": 3,
   "metadata": {},
   "outputs": [],
   "source": [
    "str = \"the lion chased the deer until it fell\""
   ]
  },
  {
   "cell_type": "code",
   "execution_count": 4,
   "metadata": {},
   "outputs": [
    {
     "name": "stdout",
     "output_type": "stream",
     "text": [
      "(S\n",
      "  (NP (DT the) (N lion))\n",
      "  (VP\n",
      "    (VP (V chased) (NP (DT the) (N deer)))\n",
      "    (PP (P until) (NP (N it) (V fell))))) (p=3.6864e-06)\n",
      "(S\n",
      "  (NP (DT the) (N lion))\n",
      "  (VP\n",
      "    (V chased)\n",
      "    (NP\n",
      "      (NP (DT the) (N deer))\n",
      "      (PP (P until) (NP (N it) (V fell)))))) (p=2.304e-06)\n"
     ]
    }
   ],
   "source": [
    "from nltk.parse import pchart\n",
    "\n",
    "parser = pchart.InsideChartParser(pcfg_grammar)\n",
    "\n",
    "#print all possible trees, showing probability of each parse\n",
    "for t in parser.parse(str.split()):\n",
    "     print(t)"
   ]
  },
  {
   "cell_type": "code",
   "execution_count": null,
   "metadata": {},
   "outputs": [],
   "source": []
  }
 ],
 "metadata": {
  "kernelspec": {
   "display_name": "Python 3",
   "language": "python",
   "name": "python3"
  },
  "language_info": {
   "codemirror_mode": {
    "name": "ipython",
    "version": 3
   },
   "file_extension": ".py",
   "mimetype": "text/x-python",
   "name": "python",
   "nbconvert_exporter": "python",
   "pygments_lexer": "ipython3",
   "version": "3.6.5"
  }
 },
 "nbformat": 4,
 "nbformat_minor": 2
}
