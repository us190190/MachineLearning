{
 "cells": [
  {
   "cell_type": "code",
   "execution_count": 1,
   "metadata": {},
   "outputs": [],
   "source": [
    "import nltk"
   ]
  },
  {
   "cell_type": "code",
   "execution_count": 2,
   "metadata": {},
   "outputs": [],
   "source": [
    "#define the grammar for pcfg\n",
    "pcfg_grammar = nltk.PCFG.fromstring(\"\"\"\n",
    "    \n",
    "S -> NP VP [1.0]\n",
    "\n",
    "NP -> Det N [0.7] | Det N PP [0.3]\n",
    "\n",
    "VP -> V [0.4] | V NP [0.4] |V NP PP [0.2]\n",
    "\n",
    "PP -> P NP [1.0]\n",
    "\n",
    "Det -> 'a' [0.4]| 'the' [0.6]\n",
    "\n",
    "N -> 'man' [0.5] | 'dog'  [0.3]| 'park' [0.1]| 'telescope' [0.1]\n",
    "\n",
    "V -> 'saw' [1.0]\n",
    "\n",
    "P -> 'with' [0.6]| 'in' [0.4]\n",
    "    \"\"\")"
   ]
  },
  {
   "cell_type": "code",
   "execution_count": 3,
   "metadata": {},
   "outputs": [],
   "source": [
    "str = \"the man saw a dog in the park with a telescope\""
   ]
  },
  {
   "cell_type": "code",
   "execution_count": 4,
   "metadata": {},
   "outputs": [
    {
     "name": "stdout",
     "output_type": "stream",
     "text": [
      "(S\n",
      "  (NP (Det the) (N man))\n",
      "  (VP\n",
      "    (V saw)\n",
      "    (NP\n",
      "      (Det a)\n",
      "      (N dog)\n",
      "      (PP (P in) (NP (Det the) (N park))))\n",
      "    (PP (P with) (NP (Det a) (N telescope))))) (p=4.26747e-07)\n",
      "(S\n",
      "  (NP (Det the) (N man))\n",
      "  (VP\n",
      "    (V saw)\n",
      "    (NP (Det a) (N dog))\n",
      "    (PP\n",
      "      (P in)\n",
      "      (NP\n",
      "        (Det the)\n",
      "        (N park)\n",
      "        (PP (P with) (NP (Det a) (N telescope))))))) (p=4.26747e-07)\n",
      "(S\n",
      "  (NP (Det the) (N man))\n",
      "  (VP\n",
      "    (V saw)\n",
      "    (NP\n",
      "      (Det a)\n",
      "      (N dog)\n",
      "      (PP\n",
      "        (P in)\n",
      "        (NP\n",
      "          (Det the)\n",
      "          (N park)\n",
      "          (PP (P with) (NP (Det a) (N telescope)))))))) (p=3.65783e-07)\n"
     ]
    }
   ],
   "source": [
    "from nltk.parse import pchart\n",
    "\n",
    "parser = pchart.InsideChartParser(pcfg_grammar)\n",
    "\n",
    "#print all possible trees, showing probability of each parse\n",
    "for t in parser.parse(str.split()):\n",
    "     print(t)"
   ]
  },
  {
   "cell_type": "code",
   "execution_count": null,
   "metadata": {},
   "outputs": [],
   "source": []
  }
 ],
 "metadata": {
  "kernelspec": {
   "display_name": "Python 3",
   "language": "python",
   "name": "python3"
  },
  "language_info": {
   "codemirror_mode": {
    "name": "ipython",
    "version": 3
   },
   "file_extension": ".py",
   "mimetype": "text/x-python",
   "name": "python",
   "nbconvert_exporter": "python",
   "pygments_lexer": "ipython3",
   "version": "3.6.5"
  }
 },
 "nbformat": 4,
 "nbformat_minor": 2
}
